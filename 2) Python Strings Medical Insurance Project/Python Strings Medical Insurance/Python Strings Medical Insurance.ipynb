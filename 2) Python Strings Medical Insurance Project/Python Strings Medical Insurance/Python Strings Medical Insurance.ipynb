{
 "cells": [
  {
   "cell_type": "markdown",
   "id": "42ebf3a6",
   "metadata": {},
   "source": [
    "# Python Strings: Medical Insurance Project"
   ]
  },
  {
   "cell_type": "markdown",
   "id": "7fdabfc2",
   "metadata": {},
   "source": [
    "You are a doctor who needs to clean up medical patient records, which are currently stored in one large string.\n",
    "\n",
    "In this project, you will use your new knowledge of Python strings to obtain and clean up medical data so that it is easier to read and analyze.\n",
    "\n",
    "Let's get started!"
   ]
  },
  {
   "cell_type": "markdown",
   "id": "b43c5043",
   "metadata": {},
   "source": [
    "## Working with Strings"
   ]
  },
  {
   "cell_type": "markdown",
   "id": "946b626b",
   "metadata": {},
   "source": [
    "1. First, take a look at the code in the code block below.\n",
    "\n",
    "   The string `medical_data` stores the medical records for ten individuals. Each record is separated by a `;` and contains the name, age, BMI (body mass index), and insurance cost for an individual, in that order.\n",
    "   \n",
    "   Print `medical_data` to see the output below the code block."
   ]
  },
  {
   "cell_type": "code",
   "execution_count": 2,
   "id": "98d79856",
   "metadata": {
    "ExecuteTime": {
     "end_time": "2024-04-11T16:59:14.174142Z",
     "start_time": "2024-04-11T16:59:14.167815Z"
    }
   },
   "outputs": [],
   "source": [
    "medical_data = \\\n",
    "\"\"\"Marina Allison   ,27   ,   31.1 , \n",
    "#7010.0   ;Markus Valdez   ,   30, \n",
    "22.4,   #4050.0 ;Connie Ballard ,43 \n",
    ",   25.3 , #12060.0 ;Darnell Weber   \n",
    ",   35   , 20.6   , #7500.0;\n",
    "Sylvie Charles   ,22, 22.1 \n",
    ",#3022.0   ;   Vinay Padilla,24,   \n",
    "26.9 ,#4620.0 ;Meredith Santiago, 51   , \n",
    "29.3 ,#16330.0;   Andre Mccarty, \n",
    "19,22.7 , #2900.0 ; \n",
    "Lorena Hodson ,65, 33.1 , #19370.0; \n",
    "Isaac Vu ,34, 24.8,   #7045.0\"\"\"\n"
   ]
  },
  {
   "cell_type": "code",
   "outputs": [
    {
     "name": "stdout",
     "output_type": "stream",
     "text": [
      "Marina Allison   ,27   ,   31.1 , \n",
      "#7010.0   ;Markus Valdez   ,   30, \n",
      "22.4,   #4050.0 ;Connie Ballard ,43 \n",
      ",   25.3 , #12060.0 ;Darnell Weber   \n",
      ",   35   , 20.6   , #7500.0;\n",
      "Sylvie Charles   ,22, 22.1 \n",
      ",#3022.0   ;   Vinay Padilla,24,   \n",
      "26.9 ,#4620.0 ;Meredith Santiago, 51   , \n",
      "29.3 ,#16330.0;   Andre Mccarty, \n",
      "19,22.7 , #2900.0 ; \n",
      "Lorena Hodson ,65, 33.1 , #19370.0; \n",
      "Isaac Vu ,34, 24.8,   #7045.0\n"
     ]
    }
   ],
   "source": [
    "print(medical_data)"
   ],
   "metadata": {
    "collapsed": false,
    "ExecuteTime": {
     "end_time": "2024-04-11T16:59:14.412811Z",
     "start_time": "2024-04-11T16:59:14.406027Z"
    }
   },
   "id": "c00b0d5ad89c3911",
   "execution_count": 3
  },
  {
   "cell_type": "markdown",
   "id": "027929c1",
   "metadata": {},
   "source": [
    "2. We want the insurance costs to be represented in US dollars.\n",
    "\n",
    "   Replace all instances of `#` in `medical_data` with `$`. Store the result in a variable called `updated_medical_data`.\n",
    "   \n",
    "   Print `updated_medical_data`."
   ]
  },
  {
   "cell_type": "code",
   "execution_count": 4,
   "id": "0fafcc50",
   "metadata": {
    "ExecuteTime": {
     "end_time": "2024-04-11T16:59:14.446254Z",
     "start_time": "2024-04-11T16:59:14.441288Z"
    }
   },
   "outputs": [
    {
     "name": "stdout",
     "output_type": "stream",
     "text": [
      "Marina Allison   ,27   ,   31.1 , \n",
      "$7010.0   ;Markus Valdez   ,   30, \n",
      "22.4,   $4050.0 ;Connie Ballard ,43 \n",
      ",   25.3 , $12060.0 ;Darnell Weber   \n",
      ",   35   , 20.6   , $7500.0;\n",
      "Sylvie Charles   ,22, 22.1 \n",
      ",$3022.0   ;   Vinay Padilla,24,   \n",
      "26.9 ,$4620.0 ;Meredith Santiago, 51   , \n",
      "29.3 ,$16330.0;   Andre Mccarty, \n",
      "19,22.7 , $2900.0 ; \n",
      "Lorena Hodson ,65, 33.1 , $19370.0; \n",
      "Isaac Vu ,34, 24.8,   $7045.0\n"
     ]
    }
   ],
   "source": [
    "updated_medical_data = medical_data.replace('#', '$')\n",
    "print(updated_medical_data)"
   ]
  },
  {
   "cell_type": "markdown",
   "id": "c8077148",
   "metadata": {},
   "source": [
    "3. We want to calculate the number of medical records in our data.\n",
    "\n",
    "   Create a variable called `num_records` and initialize it at 0."
   ]
  },
  {
   "cell_type": "code",
   "execution_count": 5,
   "id": "9da8e807",
   "metadata": {
    "ExecuteTime": {
     "end_time": "2024-04-11T16:59:14.493531Z",
     "start_time": "2024-04-11T16:59:14.488709Z"
    }
   },
   "outputs": [],
   "source": [
    "num_records = 0"
   ]
  },
  {
   "cell_type": "markdown",
   "id": "01a5a118",
   "metadata": {},
   "source": [
    "4. Next, write a `for` loop to iterate through the `updated_medical_data` string. Inside of the loop, add `1` to `num_records` when the current character is equal to `$`."
   ]
  },
  {
   "cell_type": "code",
   "execution_count": 6,
   "id": "7d5aaabf",
   "metadata": {
    "ExecuteTime": {
     "end_time": "2024-04-11T16:59:14.538868Z",
     "start_time": "2024-04-11T16:59:14.534280Z"
    }
   },
   "outputs": [],
   "source": [
    "for data in updated_medical_data:\n",
    "    if data == '$':\n",
    "        num_records += 1\n",
    "        "
   ]
  },
  {
   "cell_type": "markdown",
   "id": "8649dd50",
   "metadata": {},
   "source": [
    "5. Outside of the loop, print `num_records` with the following message:\n",
    "\n",
    "   ```\n",
    "   There are {num_records} medical records in the data.\n",
    "   ```"
   ]
  },
  {
   "cell_type": "code",
   "execution_count": 7,
   "id": "6638542f",
   "metadata": {
    "ExecuteTime": {
     "end_time": "2024-04-11T16:59:14.593789Z",
     "start_time": "2024-04-11T16:59:14.588172Z"
    }
   },
   "outputs": [
    {
     "name": "stdout",
     "output_type": "stream",
     "text": [
      "There are 10 medical records in the data\n"
     ]
    }
   ],
   "source": [
    "print(f\"There are {num_records} medical records in the data\")"
   ]
  },
  {
   "cell_type": "markdown",
   "source": [],
   "metadata": {
    "collapsed": false
   },
   "id": "28025fa30612fafb"
  },
  {
   "cell_type": "markdown",
   "id": "10897f50",
   "metadata": {},
   "source": [
    "## Splitting Strings"
   ]
  },
  {
   "cell_type": "markdown",
   "id": "585614f8",
   "metadata": {},
   "source": [
    "6. The medical data in its current form is difficult to analyze. An essential job for a data scientist is to clean up data so that it's easy to work with.\n",
    "\n",
    "   Let's start off by splitting the `updated_medical_data` string into a list of each record. Remember that each medical record is separated by a `;` in the string.\n",
    "   \n",
    "   Store the result in a variable called `medical_data_split` and print this variable."
   ]
  },
  {
   "cell_type": "code",
   "execution_count": 8,
   "id": "76cae5e8",
   "metadata": {
    "ExecuteTime": {
     "end_time": "2024-04-11T16:59:14.640950Z",
     "start_time": "2024-04-11T16:59:14.635787Z"
    }
   },
   "outputs": [
    {
     "name": "stdout",
     "output_type": "stream",
     "text": [
      "['Marina Allison   ,27   ,   31.1 , \\n$7010.0   ', 'Markus Valdez   ,   30, \\n22.4,   $4050.0 ', 'Connie Ballard ,43 \\n,   25.3 , $12060.0 ', 'Darnell Weber   \\n,   35   , 20.6   , $7500.0', '\\nSylvie Charles   ,22, 22.1 \\n,$3022.0   ', '   Vinay Padilla,24,   \\n26.9 ,$4620.0 ', 'Meredith Santiago, 51   , \\n29.3 ,$16330.0', '   Andre Mccarty, \\n19,22.7 , $2900.0 ', ' \\nLorena Hodson ,65, 33.1 , $19370.0', ' \\nIsaac Vu ,34, 24.8,   $7045.0']\n"
     ]
    }
   ],
   "source": [
    "medical_data_split = updated_medical_data.split(';')\n",
    "print(medical_data_split)"
   ]
  },
  {
   "cell_type": "markdown",
   "id": "1eb23af4",
   "metadata": {},
   "source": [
    "7. Our data is now stored in a list, but it is still hard to read. Let's split each medical record into its own list.\n",
    "\n",
    "   First, define an empty list called `medical_records`."
   ]
  },
  {
   "cell_type": "code",
   "execution_count": 9,
   "id": "434ed907",
   "metadata": {
    "ExecuteTime": {
     "end_time": "2024-04-11T16:59:14.725282Z",
     "start_time": "2024-04-11T16:59:14.720037Z"
    }
   },
   "outputs": [],
   "source": [
    "medical_records = []"
   ]
  },
  {
   "cell_type": "markdown",
   "id": "1d28c632",
   "metadata": {},
   "source": [
    "8. Next, iterate through `medical_data_split` and for each record, split the string after each comma (`,`) and append the split string to `medical_records`.\n",
    "\n",
    "   Print `medical_records` after the loop."
   ]
  },
  {
   "cell_type": "code",
   "execution_count": 10,
   "id": "d57c33b1",
   "metadata": {
    "ExecuteTime": {
     "end_time": "2024-04-11T16:59:14.755262Z",
     "start_time": "2024-04-11T16:59:14.748348Z"
    }
   },
   "outputs": [
    {
     "name": "stdout",
     "output_type": "stream",
     "text": [
      "[['Marina Allison   ', '27   ', '   31.1 ', ' \\n$7010.0   '], ['Markus Valdez   ', '   30', ' \\n22.4', '   $4050.0 '], ['Connie Ballard ', '43 \\n', '   25.3 ', ' $12060.0 '], ['Darnell Weber   \\n', '   35   ', ' 20.6   ', ' $7500.0'], ['\\nSylvie Charles   ', '22', ' 22.1 \\n', '$3022.0   '], ['   Vinay Padilla', '24', '   \\n26.9 ', '$4620.0 '], ['Meredith Santiago', ' 51   ', ' \\n29.3 ', '$16330.0'], ['   Andre Mccarty', ' \\n19', '22.7 ', ' $2900.0 '], [' \\nLorena Hodson ', '65', ' 33.1 ', ' $19370.0'], [' \\nIsaac Vu ', '34', ' 24.8', '   $7045.0']]\n"
     ]
    }
   ],
   "source": [
    "for data in medical_data_split:\n",
    "    medical_records.append(data.split(','))\n",
    "print(medical_records)"
   ]
  },
  {
   "cell_type": "markdown",
   "id": "82da2380",
   "metadata": {},
   "source": [
    "## Cleaning Data"
   ]
  },
  {
   "cell_type": "markdown",
   "id": "5e07b261",
   "metadata": {},
   "source": [
    "9. Our data is now slightly more readable. However, it is not properly formatted - it contains unnecessary whitespace.\n",
    "\n",
    "   To fix this, let's start by creating an empty list called `medical_records_clean`."
   ]
  },
  {
   "cell_type": "code",
   "execution_count": 11,
   "id": "fe45e1b0",
   "metadata": {
    "ExecuteTime": {
     "end_time": "2024-04-11T16:59:14.857194Z",
     "start_time": "2024-04-11T16:59:14.850520Z"
    }
   },
   "outputs": [],
   "source": [
    "medical_records_clean = []"
   ]
  },
  {
   "cell_type": "markdown",
   "id": "6c27f1d8",
   "metadata": {},
   "source": [
    "10. Next, use a `for` loop to iterate through `medical_records`.\n",
    "\n",
    "    Inside of the loop, create an empty list called `record_clean`. We'll use this list to store a formatted version of each medical record."
   ]
  },
  {
   "cell_type": "code",
   "execution_count": 12,
   "id": "1d13c527",
   "metadata": {
    "ExecuteTime": {
     "end_time": "2024-04-11T16:59:14.915688Z",
     "start_time": "2024-04-11T16:59:14.909562Z"
    }
   },
   "outputs": [],
   "source": [
    "for record in medical_records:\n",
    "    record_clean = []\n",
    "    "
   ]
  },
  {
   "cell_type": "markdown",
   "id": "af65cf51",
   "metadata": {},
   "source": [
    "11. After the `record_clean` variable, create a nested `for` loop that goes through each `record`:\n",
    "\n",
    "    ```py\n",
    "    for item in record\n",
    "    ```\n",
    "    \n",
    "    Inside of this loop, append `item.strip()` to `record_clean` to remove any whitespace from the string."
   ]
  },
  {
   "cell_type": "code",
   "execution_count": 19,
   "id": "62c68cf6",
   "metadata": {
    "ExecuteTime": {
     "end_time": "2024-04-11T17:03:01.848663Z",
     "start_time": "2024-04-11T17:03:01.842862Z"
    }
   },
   "outputs": [],
   "source": [
    "for record in medical_records:\n",
    "    record_clean = []\n",
    "    for item in record:\n",
    "        record_clean.append(item.strip())\n",
    "        \n",
    "        "
   ]
  },
  {
   "cell_type": "markdown",
   "id": "173d51bf",
   "metadata": {},
   "source": [
    "12. Finally, we need to add each cleaned up record to `medical_records_clean`.\n",
    "\n",
    "    Outside of the nested `for` loop, append `record_clean` to `medical_records_clean`."
   ]
  },
  {
   "cell_type": "code",
   "execution_count": 21,
   "id": "4ac79cd2",
   "metadata": {
    "ExecuteTime": {
     "end_time": "2024-04-11T17:03:38.508648Z",
     "start_time": "2024-04-11T17:03:38.501576Z"
    }
   },
   "outputs": [],
   "source": [
    "for record in medical_records:\n",
    "    record_clean = []\n",
    "    for item in record:\n",
    "        record_clean.append(item.strip())\n",
    "    medical_records_clean.append(record_clean)\n",
    "\n",
    "medical_records_clean.append(record_clean)\n"
   ]
  },
  {
   "cell_type": "markdown",
   "id": "d2f0344f",
   "metadata": {},
   "source": [
    "13. Print `medical_records_clean` outside of the `for` loops to see the output.\n",
    "\n",
    "    You should see output that is formatted and much easier to read."
   ]
  },
  {
   "cell_type": "code",
   "execution_count": 22,
   "id": "c8ab9356",
   "metadata": {
    "ExecuteTime": {
     "end_time": "2024-04-11T17:03:45.779170Z",
     "start_time": "2024-04-11T17:03:45.773460Z"
    }
   },
   "outputs": [
    {
     "name": "stdout",
     "output_type": "stream",
     "text": [
      "[['Isaac Vu', '34', '24.8', '$7045.0'], ['Isaac Vu', '34', '24.8', '$7045.0'], ['Marina Allison', '27', '31.1', '$7010.0'], ['Markus Valdez', '30', '22.4', '$4050.0'], ['Connie Ballard', '43', '25.3', '$12060.0'], ['Darnell Weber', '35', '20.6', '$7500.0'], ['Sylvie Charles', '22', '22.1', '$3022.0'], ['Vinay Padilla', '24', '26.9', '$4620.0'], ['Meredith Santiago', '51', '29.3', '$16330.0'], ['Andre Mccarty', '19', '22.7', '$2900.0'], ['Lorena Hodson', '65', '33.1', '$19370.0'], ['Isaac Vu', '34', '24.8', '$7045.0'], ['Isaac Vu', '34', '24.8', '$7045.0'], ['Marina Allison', '27', '31.1', '$7010.0'], ['Markus Valdez', '30', '22.4', '$4050.0'], ['Connie Ballard', '43', '25.3', '$12060.0'], ['Darnell Weber', '35', '20.6', '$7500.0'], ['Sylvie Charles', '22', '22.1', '$3022.0'], ['Vinay Padilla', '24', '26.9', '$4620.0'], ['Meredith Santiago', '51', '29.3', '$16330.0'], ['Andre Mccarty', '19', '22.7', '$2900.0'], ['Lorena Hodson', '65', '33.1', '$19370.0'], ['Isaac Vu', '34', '24.8', '$7045.0'], ['Isaac Vu', '34', '24.8', '$7045.0']]\n"
     ]
    }
   ],
   "source": [
    "print(medical_records_clean)"
   ]
  },
  {
   "cell_type": "markdown",
   "id": "e27bf497",
   "metadata": {},
   "source": [
    "## Analyzing Data"
   ]
  },
  {
   "cell_type": "markdown",
   "id": "9e73a4f2",
   "metadata": {},
   "source": [
    "14. Our data is now clean and ready for analysis.\n",
    "\n",
    "    For example, to print out the names of each of the ten individuals, we can use the following loop:\n",
    "    ```py\n",
    "    for record in medical_records_clean:\n",
    "      print(record[0])\n",
    "    ```\n",
    "    \n",
    "    Add this loop to the code block below and run it."
   ]
  },
  {
   "cell_type": "code",
   "execution_count": 23,
   "id": "3ade320b",
   "metadata": {
    "ExecuteTime": {
     "end_time": "2024-04-11T17:04:48.420082Z",
     "start_time": "2024-04-11T17:04:48.414033Z"
    }
   },
   "outputs": [
    {
     "name": "stdout",
     "output_type": "stream",
     "text": [
      "Isaac Vu\n",
      "Isaac Vu\n",
      "Marina Allison\n",
      "Markus Valdez\n",
      "Connie Ballard\n",
      "Darnell Weber\n",
      "Sylvie Charles\n",
      "Vinay Padilla\n",
      "Meredith Santiago\n",
      "Andre Mccarty\n",
      "Lorena Hodson\n",
      "Isaac Vu\n",
      "Isaac Vu\n",
      "Marina Allison\n",
      "Markus Valdez\n",
      "Connie Ballard\n",
      "Darnell Weber\n",
      "Sylvie Charles\n",
      "Vinay Padilla\n",
      "Meredith Santiago\n",
      "Andre Mccarty\n",
      "Lorena Hodson\n",
      "Isaac Vu\n",
      "Isaac Vu\n"
     ]
    }
   ],
   "source": [
    "for record in medical_records_clean:\n",
    "    print(record[0])"
   ]
  },
  {
   "cell_type": "markdown",
   "id": "283e1a2f",
   "metadata": {},
   "source": [
    "15. You want all of the names in the medical records to be uppercase characters.\n",
    "\n",
    "    In the `for` loop, update `records[0]` before the `print` statement so that all of the characters are uppercase.\n",
    "    \n",
    "    Run the code to see the result."
   ]
  },
  {
   "cell_type": "code",
   "execution_count": 25,
   "id": "ee24f738",
   "metadata": {
    "ExecuteTime": {
     "end_time": "2024-04-11T17:16:12.410335Z",
     "start_time": "2024-04-11T17:16:12.402256Z"
    }
   },
   "outputs": [
    {
     "name": "stdout",
     "output_type": "stream",
     "text": [
      "ISAAC VU\n",
      "ISAAC VU\n",
      "MARINA ALLISON\n",
      "MARKUS VALDEZ\n",
      "CONNIE BALLARD\n",
      "DARNELL WEBER\n",
      "SYLVIE CHARLES\n",
      "VINAY PADILLA\n",
      "MEREDITH SANTIAGO\n",
      "ANDRE MCCARTY\n",
      "LORENA HODSON\n",
      "ISAAC VU\n",
      "ISAAC VU\n",
      "MARINA ALLISON\n",
      "MARKUS VALDEZ\n",
      "CONNIE BALLARD\n",
      "DARNELL WEBER\n",
      "SYLVIE CHARLES\n",
      "VINAY PADILLA\n",
      "MEREDITH SANTIAGO\n",
      "ANDRE MCCARTY\n",
      "LORENA HODSON\n",
      "ISAAC VU\n",
      "ISAAC VU\n"
     ]
    }
   ],
   "source": [
    "for record in medical_records_clean:\n",
    "    record_upper = record[0].upper()\n",
    "    print(record_upper)"
   ]
  },
  {
   "cell_type": "markdown",
   "id": "e16d6979",
   "metadata": {},
   "source": [
    "16. Let's store each name, age, BMI, and insurance cost in separate lists.\n",
    "\n",
    "    To start, create four empty lists:\n",
    "    - `names`\n",
    "    - `ages`\n",
    "    - `bmis`\n",
    "    - `insurance_costs`"
   ]
  },
  {
   "cell_type": "code",
   "execution_count": 26,
   "id": "e77b8028",
   "metadata": {
    "ExecuteTime": {
     "end_time": "2024-04-11T17:18:42.858947Z",
     "start_time": "2024-04-11T17:18:42.851546Z"
    }
   },
   "outputs": [],
   "source": [
    "names = []\n",
    "ages = []\n",
    "bmis = []\n",
    "insurance_costs = []"
   ]
  },
  {
   "cell_type": "markdown",
   "id": "637e6b7e",
   "metadata": {},
   "source": [
    "17. Next, iterate through `medical_records_clean` and for each record:\n",
    "    - Append the name to `names`.\n",
    "    - Append the age to `ages`.\n",
    "    - Append the BMI to `bmis`.\n",
    "    - Append the insurance cost to `insurance_costs`."
   ]
  },
  {
   "cell_type": "code",
   "execution_count": 15,
   "id": "2e370347",
   "metadata": {
    "ExecuteTime": {
     "end_time": "2024-04-11T16:59:15.339368Z",
     "start_time": "2024-04-11T16:59:15.335607Z"
    }
   },
   "outputs": [],
   "source": []
  },
  {
   "cell_type": "markdown",
   "id": "92b26a50",
   "metadata": {},
   "source": [
    "18. Print `names`, `ages`, `bmis`, and `insurance_costs` outside of the loop.\n",
    "\n",
    "    Make sure the output is what you expect."
   ]
  },
  {
   "cell_type": "code",
   "execution_count": 15,
   "id": "72fd0613",
   "metadata": {
    "ExecuteTime": {
     "end_time": "2024-04-11T16:59:15.370743Z",
     "start_time": "2024-04-11T16:59:15.366545Z"
    }
   },
   "outputs": [],
   "source": []
  },
  {
   "cell_type": "markdown",
   "id": "c5ec3f19",
   "metadata": {},
   "source": [
    "19. Now that all of our data is in separate lists, we can easily perform analysis on that data. Let's calculate the average BMI in our dataset.\n",
    "\n",
    "    First, create a variable called `total_bmi` and set it equal to 0."
   ]
  },
  {
   "cell_type": "code",
   "execution_count": 15,
   "id": "303e90dd",
   "metadata": {
    "ExecuteTime": {
     "end_time": "2024-04-11T16:59:15.413765Z",
     "start_time": "2024-04-11T16:59:15.409757Z"
    }
   },
   "outputs": [],
   "source": []
  },
  {
   "cell_type": "markdown",
   "id": "d2c713d2",
   "metadata": {},
   "source": [
    "20. Next, use a `for` loop to iterate through `bmis` and add each `bmi` to `total_bmi`.\n",
    "\n",
    "    Remember to convert `bmi` to a float."
   ]
  },
  {
   "cell_type": "code",
   "execution_count": 15,
   "id": "b174204c",
   "metadata": {
    "ExecuteTime": {
     "end_time": "2024-04-11T16:59:15.436407Z",
     "start_time": "2024-04-11T16:59:15.432294Z"
    }
   },
   "outputs": [],
   "source": []
  },
  {
   "cell_type": "markdown",
   "id": "2b4017c1",
   "metadata": {},
   "source": [
    "21. After the for loop, create a variable called `average_bmi` that stores the `total_bmi` divided by the length of the `bmis` list.\n",
    "\n",
    "    Print out `average_bmi` with the following message:\n",
    "    ```\n",
    "    Average BMI: {average_bmi}\n",
    "    ```"
   ]
  },
  {
   "cell_type": "code",
   "execution_count": 15,
   "id": "fc16ab5d",
   "metadata": {
    "ExecuteTime": {
     "end_time": "2024-04-11T16:59:15.482322Z",
     "start_time": "2024-04-11T16:59:15.478300Z"
    }
   },
   "outputs": [],
   "source": []
  },
  {
   "cell_type": "markdown",
   "id": "723d4d6f",
   "metadata": {},
   "source": [
    "## Extra"
   ]
  },
  {
   "cell_type": "markdown",
   "id": "6b1a8e94",
   "metadata": {},
   "source": [
    "22. Congratulations! In this project, you used Python strings to transform and clean up medical data.\n",
    "\n",
    "    As a data scientist, it's important that you have clean and accurate data before you analyze it. You now have a better idea of the data preparation process moving forward.\n",
    "    \n",
    "    If you'd like extra practice with Python strings, here are some suggestions to get you started:\n",
    "    - Calculate the average insurance cost in `insurance_costs`. You will have the remove the `$` in order to calculate this.\n",
    "    - Write a for loop that outputs a string for each individual in the following format:\n",
    "    ```\n",
    "    Marina is 27 years old with a BMI of 31.1 and an insurance cost of $7010.0.\n",
    "Markus is 30 years old with a BMI of 22.4 and an insurance cost of $4050.0.\n",
    "    ...\n",
    "    ...\n",
    "    \n",
    "    Happy coding!"
   ]
  },
  {
   "cell_type": "code",
   "execution_count": 15,
   "id": "cbe47776",
   "metadata": {
    "ExecuteTime": {
     "end_time": "2024-04-11T16:59:15.504203Z",
     "start_time": "2024-04-11T16:59:15.500330Z"
    }
   },
   "outputs": [],
   "source": []
  },
  {
   "cell_type": "code",
   "execution_count": 15,
   "id": "c30eba87",
   "metadata": {
    "ExecuteTime": {
     "end_time": "2024-04-11T16:59:15.568128Z",
     "start_time": "2024-04-11T16:59:15.561736Z"
    }
   },
   "outputs": [],
   "source": []
  }
 ],
 "metadata": {
  "kernelspec": {
   "display_name": "Python 3 (ipykernel)",
   "language": "python",
   "name": "python3"
  },
  "language_info": {
   "codemirror_mode": {
    "name": "ipython",
    "version": 3
   },
   "file_extension": ".py",
   "mimetype": "text/x-python",
   "name": "python",
   "nbconvert_exporter": "python",
   "pygments_lexer": "ipython3",
   "version": "3.7.11"
  }
 },
 "nbformat": 4,
 "nbformat_minor": 5
}
